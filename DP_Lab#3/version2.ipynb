{
 "metadata": {
  "language_info": {
   "codemirror_mode": {
    "name": "ipython",
    "version": 3
   },
   "file_extension": ".py",
   "mimetype": "text/x-python",
   "name": "python",
   "nbconvert_exporter": "python",
   "pygments_lexer": "ipython3",
   "version": "3.7.4-final"
  },
  "orig_nbformat": 2,
  "kernelspec": {
   "name": "python37464bitbaseconda7af9ca22254b43f1852c7d3c10f43431",
   "display_name": "Python 3.7.4 64-bit ('base': conda)",
   "language": "python"
  }
 },
 "nbformat": 4,
 "nbformat_minor": 2,
 "cells": [
  {
   "cell_type": "code",
   "execution_count": 1,
   "metadata": {},
   "outputs": [],
   "source": [
    "import numpy as np\n",
    "import random\n",
    "from os.path import abspath, join"
   ]
  },
  {
   "cell_type": "code",
   "execution_count": 2,
   "metadata": {},
   "outputs": [],
   "source": [
    "class Network:\n",
    "\n",
    "    def __init__(self, sizes: list):\n",
    "        \"\"\" \n",
    "        sizes 包含各層神經元的數量, 假設建構一個2層的NN, \n",
    "        則目標會含有:input layer x1, hidden layer x1, output layer x1\n",
    "        若每層的神經元數量分別是784,15,1則創建時指定list object [784,15,1]即可。\n",
    "\n",
    "        example: net = Network([784, 15, 1]) \n",
    "        \"\"\"\n",
    "        self.num_layers = len(sizes)\n",
    "        self.sizes = sizes\n",
    "        self.biases = [np.random.randn(y, 1) for y in sizes[1:]]\n",
    "        self.weights = [np.random.randn(y, x) \n",
    "                        for x, y in zip(sizes[:-1], sizes[1:])]\n",
    "        self.train_acc = 0\n",
    "        self.test_acc = 0\n",
    "        self.epoch = 0\n",
    "        self.eta = 0\n",
    "\n",
    "    def feedforward2(self, a):\n",
    "        \"\"\"Return the output of the network if ``a`` is input.\"\"\"\n",
    "        zs = []\n",
    "        activations = [a]\n",
    "\n",
    "        activation = a\n",
    "        for b, w in zip(self.biases, self.weights):\n",
    "            z = np.dot(w, activation) + b\n",
    "            zs.append(z)\n",
    "            activation = sigmoid(z)\n",
    "            activations.append(activation)\n",
    "        activations.append(softmax(zs[-1]))\n",
    "        activations.pop(-2)\n",
    "\n",
    "        return (zs, activations)\n",
    "\n",
    "    def update_mini_batch2(self, mini_batch, eta):\n",
    "        \"\"\"Update the network's weights and biases by applying\n",
    "        gradient descent using backpropagation to a single mini batch.\n",
    "        The ``mini_batch`` is a list of tuples ``(x, y)``, and ``eta``\n",
    "        is the learning rate.\"\"\"\n",
    "        batch_size = len(mini_batch)\n",
    "\n",
    "        # transform to (input x batch_size) matrix\n",
    "        x = np.asarray([_x.ravel() for _x, _y in mini_batch]).transpose()\n",
    "        # transform to (output x batch_size) matrix\n",
    "        y = np.asarray([_y.ravel() for _x, _y in mini_batch]).transpose()\n",
    "\n",
    "        nabla_b, nabla_w = self.backprop2(x, y)\n",
    "        self.weights = [w - (eta / batch_size) * nw for w, nw in zip(self.weights, nabla_w)]\n",
    "        self.biases = [b - (eta / batch_size) * nb for b, nb in zip(self.biases, nabla_b)]\n",
    "\n",
    "        return\n",
    "\n",
    "    def backprop2(self, x, y):\n",
    "        \"\"\"Return a tuple ``(nabla_b, nabla_w)`` representing the\n",
    "        gradient for the cost function C_x.  ``nabla_b`` and\n",
    "        ``nabla_w`` are layer-by-layer lists of numpy arrays, similar\n",
    "        to ``self.biases`` and ``self.weights``.\"\"\"\n",
    "        nabla_b = [0 for i in self.biases]\n",
    "        nabla_w = [0 for i in self.weights]\n",
    "\n",
    "        # feedforward\n",
    "        zs, activations = self.feedforward2(x)\n",
    "\n",
    "        # backward pass\n",
    "        delta = self.cost_derivative(activations[-1], y) * softmax(zs[-1], prime=True)\n",
    "        nabla_b[-1] = delta.sum(1).reshape([len(delta), 1]) # reshape to (n x 1) matrix\n",
    "        nabla_w[-1] = np.dot(delta, activations[-2].transpose())\n",
    "\n",
    "        for l in range(2, self.num_layers):\n",
    "            z = zs[-l]\n",
    "            sp = sigmoid(z, prime=True)\n",
    "            delta = np.dot(self.weights[-l + 1].transpose(), delta) * sp\n",
    "            nabla_b[-l] = delta.sum(1).reshape([len(delta), 1]) # reshape to (n x 1) matrix\n",
    "            nabla_w[-l] = np.dot(delta, activations[-l - 1].transpose())\n",
    "\n",
    "        return (nabla_b, nabla_w)\n",
    "\n",
    "    def feedforward(self, a):\n",
    "        \"\"\"Return the output of the network if ``a`` is input.\"\"\"\n",
    "        for b, w in zip(self.biases, self.weights):\n",
    "            a = sigmoid(np.dot(w, a)+b)\n",
    "        return a\n",
    "\n",
    "    def SGD(self, training_data, epochs, mini_batch_size, eta,\n",
    "            test_data=None):\n",
    "        \"\"\"Train the neural network using mini-batch stochastic\n",
    "        gradient descent.  The ``training_data`` is a list of tuples\n",
    "        ``(x, y)`` representing the training inputs and the desired\n",
    "        outputs.  The other non-optional parameters are\n",
    "        self-explanatory.  If ``test_data`` is provided then the\n",
    "        network will be evaluated against the test data after each\n",
    "        epoch, and partial progress printed out.  This is useful for\n",
    "        tracking progress, but slows things down substantially.\"\"\"\n",
    "        if test_data: n_test = len(test_data)\n",
    "        n = len(training_data)\n",
    "        eva_train_result = []\n",
    "        eva_test_result = []\n",
    "        for epoch in range(epochs):\n",
    "            random.shuffle(training_data)\n",
    "            mini_batches = [\n",
    "                training_data[k:k+mini_batch_size]\n",
    "                for k in range(0, n, mini_batch_size)]\n",
    "            #self.update_mini_batch2(mini_batches, eta)\n",
    "            for mini_batch in mini_batches:\n",
    "                self.update_mini_batch2(mini_batch, eta)\n",
    "            eta *= 0.98\n",
    "            self.epoch = epoch\n",
    "            self.eta = eta\n",
    "            if test_data:\n",
    "                eva_train_result.append(self.evaluate_train(training_data))\n",
    "                eva_test_result.append(self.evaluate(test_data))\n",
    "                print(f\"Epoch {epoch}:bias {eva_train_result[-1]} / {n} ({eva_train_result[-1]/n*100}%)\")\n",
    "                print(f\"Epoch {epoch}:validation {eva_test_result[-1]} / {n_test} ({eva_test_result[-1]/n_test*100}%)\")\n",
    "                try:\n",
    "                    overfitting = eva_train_result[-2]/n > eva_train_result[-1]/n and \\\n",
    "                        eva_test_result[-2]/n_test < eva_test_result[-1]/n_test\n",
    "                except:\n",
    "                    overfitting = False\n",
    "                if overfitting and epoch > 5:\n",
    "                    print(f'bias raise up but validation down, stop training to avoid overfitting.')\n",
    "                    self.train_acc = eva_train_result[-2]/n*100\n",
    "                    self.test_acc = eva_test_result[-2]/n_test*100\n",
    "                    break\n",
    "                self.train_acc = eva_train_result[-1]/n*100\n",
    "                self.test_acc = eva_test_result[-1]/n_test*100\n",
    "            else:\n",
    "                print(f\"Epoch {epoch} complete\")\n",
    "\n",
    "    def update_mini_batch(self, mini_batch, eta):\n",
    "        \"\"\"Update the network's weights and biases by applying\n",
    "        gradient descent using backpropagation to a single mini batch.\n",
    "        The ``mini_batch`` is a list of tuples ``(x, y)``, and ``eta``\n",
    "        is the learning rate.\"\"\"\n",
    "        nabla_b = [np.zeros(b.shape) for b in self.biases]\n",
    "        nabla_w = [np.zeros(w.shape) for w in self.weights]\n",
    "        for x, y in mini_batch:\n",
    "            delta_nabla_b, delta_nabla_w = self.backprop(x, y)\n",
    "            nabla_b = [nb+dnb for nb, dnb in zip(nabla_b, delta_nabla_b)]\n",
    "            nabla_w = [nw+dnw for nw, dnw in zip(nabla_w, delta_nabla_w)]\n",
    "        self.weights = [w-(eta/len(mini_batch))*nw\n",
    "                        for w, nw in zip(self.weights, nabla_w)]\n",
    "        self.biases = [b-(eta/len(mini_batch))*nb\n",
    "                       for b, nb in zip(self.biases, nabla_b)]\n",
    "\n",
    "    def backprop(self, x, y):\n",
    "        \"\"\"Return a tuple ``(nabla_b, nabla_w)`` representing the\n",
    "        gradient for the cost function C_x.  ``nabla_b`` and\n",
    "        ``nabla_w`` are layer-by-layer lists of numpy arrays, similar\n",
    "        to ``self.biases`` and ``self.weights``.\"\"\"\n",
    "        nabla_b = [np.zeros(b.shape) for b in self.biases]\n",
    "        nabla_w = [np.zeros(w.shape) for w in self.weights]\n",
    "        # feedforward\n",
    "        activation = x\n",
    "        activations = [x] # list to store all the activations, layer by layer\n",
    "        zs = [] # list to store all the z vectors, layer by layer\n",
    "        for b, w in zip(self.biases, self.weights):\n",
    "            z = np.dot(w, activation)+b\n",
    "            zs.append(z)\n",
    "            activation = sigmoid(z)\n",
    "            activations.append(activation)\n",
    "        # backward pass\n",
    "        delta = self.cost_derivative(activations[-1], y) * \\\n",
    "            sigmoid(zs[-1], prime=True)\n",
    "        nabla_b[-1] = delta\n",
    "        nabla_w[-1] = np.dot(delta, activations[-2].transpose())\n",
    "        # Note that the variable l in the loop below is used a little\n",
    "        # differently to the notation in Chapter 2 of the book.  Here,\n",
    "        # l = 1 means the last layer of neurons, l = 2 is the\n",
    "        # second-last layer, and so on.  It's a renumbering of the\n",
    "        # scheme in the book, used here to take advantage of the fact\n",
    "        # that Python can use negative indices in lists.\n",
    "        for l in range(2, self.num_layers):\n",
    "            z = zs[-l]\n",
    "            sp = sigmoid(z, prime=True)\n",
    "            delta = np.dot(self.weights[-l+1].transpose(), delta) * sp\n",
    "            nabla_b[-l] = delta\n",
    "            nabla_w[-l] = np.dot(delta, activations[-l-1].transpose())\n",
    "        return (nabla_b, nabla_w)\n",
    "\n",
    "    def evaluate(self, test_data):\n",
    "        \"\"\"Return the number of test inputs for which the neural\n",
    "        network outputs the correct result. Note that the neural\n",
    "        network's output is assumed to be the index of whichever\n",
    "        neuron in the final layer has the highest activation.\"\"\"\n",
    "        test_results = [(np.argmax(self.feedforward2(x)[1][-1]), y)\n",
    "                        for (x, y) in test_data]\n",
    "        return sum(int(x == y) for (x, y) in test_results)\n",
    "\n",
    "    def evaluate_train(self, test_data):\n",
    "        \"\"\"Return the number of test inputs for which the neural\n",
    "        network outputs the correct result. Note that the neural\n",
    "        network's output is assumed to be the index of whichever\n",
    "        neuron in the final layer has the highest activation.\"\"\"\n",
    "        test_results = [(np.argmax(self.feedforward2(x)[1][-1]), np.argmax(y))\n",
    "                        for (x, y) in test_data]\n",
    "        return sum(int(x == y) for (x, y) in test_results)\n",
    "\n",
    "    def cost_derivative(self, output_activations, y):\n",
    "        \"\"\"Return the vector of partial derivatives \\partial C_x /\n",
    "        \\partial a for the output activations.\"\"\"\n",
    "        return (output_activations-y)"
   ]
  },
  {
   "cell_type": "code",
   "execution_count": 3,
   "metadata": {},
   "outputs": [],
   "source": [
    "#### Miscellaneous functions\n",
    "def sigmoid(z, prime=False):\n",
    "    \"\"\"The sigmoid function.\"\"\"\n",
    "    return 1.0/(1.0+np.exp(-z)) if not prime else sigmoid(z)*(1.0-sigmoid(z))\n",
    "\n",
    "def softmax(z , prime=False):\n",
    "    # Numerically stable with large exponentials\n",
    "    exps = np.exp(z - z.max())\n",
    "    if prime: return exps / np.sum(exps, axis=0) * (1 - exps / np.sum(exps, axis=0))\n",
    "    return exps / np.sum(exps, axis=0)"
   ]
  },
  {
   "cell_type": "code",
   "execution_count": 4,
   "metadata": {},
   "outputs": [],
   "source": [
    "import mnist_loader\n",
    "training_data2, validation_data2, test_data2 = \\\n",
    "    mnist_loader.load_data_wrapper()"
   ]
  },
  {
   "cell_type": "code",
   "execution_count": 11,
   "metadata": {},
   "outputs": [
    {
     "output_type": "stream",
     "name": "stdout",
     "text": [
      "Epoch 0: 9059 / 10000\n",
      "Epoch 1: 9269 / 10000\n",
      "Epoch 2: 9340 / 10000\n",
      "Epoch 3: 9361 / 10000\n",
      "Epoch 4: 9419 / 10000\n",
      "Epoch 5: 9408 / 10000\n",
      "Epoch 6: 9426 / 10000\n",
      "Epoch 7: 9429 / 10000\n",
      "Epoch 8: 9443 / 10000\n",
      "Epoch 9: 9453 / 10000\n",
      "Epoch 10: 9464 / 10000\n",
      "Epoch 11: 9448 / 10000\n",
      "Epoch 12: 9488 / 10000\n",
      "Epoch 13: 9502 / 10000\n",
      "Epoch 14: 9484 / 10000\n",
      "Epoch 15: 9439 / 10000\n",
      "Epoch 16: 9472 / 10000\n",
      "Epoch 17: 9488 / 10000\n",
      "Epoch 18: 9474 / 10000\n",
      "Epoch 19: 9472 / 10000\n",
      "Epoch 20: 9468 / 10000\n",
      "Epoch 21: 9478 / 10000\n",
      "Epoch 22: 9476 / 10000\n",
      "Epoch 23: 9479 / 10000\n",
      "Epoch 24: 9496 / 10000\n",
      "Epoch 25: 9490 / 10000\n",
      "Epoch 26: 9492 / 10000\n",
      "Epoch 27: 9488 / 10000\n",
      "Epoch 28: 9484 / 10000\n",
      "Epoch 29: 9485 / 10000\n"
     ]
    }
   ],
   "source": [
    "net = Network([784, 30, 10])\n",
    "net.SGD(training_data, 30, 10, 3.0, test_data=validation_data)"
   ]
  },
  {
   "cell_type": "code",
   "execution_count": 19,
   "metadata": {},
   "outputs": [],
   "source": [
    "class Loader:\n",
    "    \"\"\"define function for loading txt file\"\"\"\n",
    "\n",
    "    @staticmethod\n",
    "    def load_img(path, data=[]):\n",
    "        \"\"\"load train_img/test_img txt file\"\"\"\n",
    "        try:\n",
    "            with open(f\"{abspath('.')}{path}\", 'r') as txtFile:\n",
    "                for line in txtFile:\n",
    "                    line = line.replace('\\n', '').split(',')\n",
    "                    x = [[float(_)] for _ in line]\n",
    "                    data.append(np.array(x))\n",
    "            return data\n",
    "        except Exception as e:\n",
    "            raise\n",
    "\n",
    "    @staticmethod\n",
    "    def load_label(path, one_hot_vector=False, data=[]):\n",
    "        \"\"\"load train_label/test_label txt file\"\"\"\n",
    "        try:\n",
    "            with open(f\"{abspath('.')}{path}\", 'r') as txtFile:\n",
    "                for line in txtFile:\n",
    "                    x = line.replace('\\n', '').split(',')\n",
    "                    data.append(np.int64(x[0]))\n",
    "            return data\n",
    "        except Exception as e:\n",
    "            raise\n",
    "\n",
    "    @staticmethod\n",
    "    def one_hot_vector(label, data=[]):\n",
    "        for x in label:\n",
    "            if x == 0:\n",
    "                x = [[1.], [0.], [0.]]\n",
    "            elif x == 1:\n",
    "                x = [[0.], [1.], [0.]]\n",
    "            elif x == 2:\n",
    "                x = [[0.], [0.], [1.]]\n",
    "            data.append(np.array(x))\n",
    "        return data\n",
    "\n",
    "    def load_data_wrapper(self):\n",
    "        # load file\n",
    "        tr_d = self.load_img('/data/train_img.txt')\n",
    "        tr_l = self.load_label('/data/train_label.txt')\n",
    "        td_d = self.load_img('/data/test_img.txt')\n",
    "\n",
    "        # grouping\n",
    "        training_inputs = [np.reshape(x, (784, 1)) for x in tr_d[:6000]]\n",
    "        training_data = list(zip(training_inputs, fi1e.one_hot_vector(tr_l[:6000])))\n",
    "\n",
    "        validation_inputs = [np.reshape(x, (784, 1)) for x in tr_d[6000:]]\n",
    "        validation_data = list(zip(validation_inputs, tr_l[6000:]))\n",
    "\n",
    "        test_data = list(zip(td_d))\n",
    "\n",
    "        return training_data, validation_data, test_data"
   ]
  },
  {
   "cell_type": "code",
   "execution_count": 20,
   "metadata": {},
   "outputs": [],
   "source": [
    "fi1e = Loader()\n",
    "training_data, validation_data, test_data = fi1e.load_data_wrapper()"
   ]
  },
  {
   "cell_type": "code",
   "execution_count": 21,
   "metadata": {
    "tags": []
   },
   "outputs": [],
   "source": [
    "from os.path import abspath, join\n",
    "fi1e = Loader()\n",
    "tr_d = fi1e.load_img('/data/train_img.txt')\n",
    "tr_l = fi1e.load_label('/data/train_label.txt')\n",
    "td_d = fi1e.load_img('/data/test_img.txt')"
   ]
  },
  {
   "cell_type": "code",
   "execution_count": 13,
   "metadata": {},
   "outputs": [
    {
     "output_type": "error",
     "ename": "NameError",
     "evalue": "name 'tr_d' is not defined",
     "traceback": [
      "\u001b[0;31m---------------------------------------------------------------------------\u001b[0m",
      "\u001b[0;31mNameError\u001b[0m                                 Traceback (most recent call last)",
      "\u001b[0;32m<ipython-input-13-27344c7f7781>\u001b[0m in \u001b[0;36m<module>\u001b[0;34m\u001b[0m\n\u001b[1;32m      1\u001b[0m \u001b[0;31m# normalization & grouping\u001b[0m\u001b[0;34m\u001b[0m\u001b[0;34m\u001b[0m\u001b[0;34m\u001b[0m\u001b[0m\n\u001b[0;32m----> 2\u001b[0;31m \u001b[0mtraining_inputs\u001b[0m \u001b[0;34m=\u001b[0m \u001b[0;34m[\u001b[0m\u001b[0mnp\u001b[0m\u001b[0;34m.\u001b[0m\u001b[0mreshape\u001b[0m\u001b[0;34m(\u001b[0m\u001b[0mx\u001b[0m\u001b[0;34m,\u001b[0m \u001b[0;34m(\u001b[0m\u001b[0;36m784\u001b[0m\u001b[0;34m,\u001b[0m \u001b[0;36m1\u001b[0m\u001b[0;34m)\u001b[0m\u001b[0;34m)\u001b[0m \u001b[0;32mfor\u001b[0m \u001b[0mx\u001b[0m \u001b[0;32min\u001b[0m \u001b[0mtr_d\u001b[0m\u001b[0;34m[\u001b[0m\u001b[0;34m:\u001b[0m\u001b[0;36m6000\u001b[0m\u001b[0;34m]\u001b[0m\u001b[0;34m]\u001b[0m\u001b[0;34m\u001b[0m\u001b[0;34m\u001b[0m\u001b[0m\n\u001b[0m\u001b[1;32m      3\u001b[0m \u001b[0mtraining_data\u001b[0m \u001b[0;34m=\u001b[0m \u001b[0mlist\u001b[0m\u001b[0;34m(\u001b[0m\u001b[0mzip\u001b[0m\u001b[0;34m(\u001b[0m\u001b[0mtraining_inputs\u001b[0m\u001b[0;34m,\u001b[0m \u001b[0mfi1e\u001b[0m\u001b[0;34m.\u001b[0m\u001b[0mone_hot_vector\u001b[0m\u001b[0;34m(\u001b[0m\u001b[0mtr_l\u001b[0m\u001b[0;34m[\u001b[0m\u001b[0;34m:\u001b[0m\u001b[0;36m6000\u001b[0m\u001b[0;34m]\u001b[0m\u001b[0;34m)\u001b[0m\u001b[0;34m)\u001b[0m\u001b[0;34m)\u001b[0m\u001b[0;34m\u001b[0m\u001b[0;34m\u001b[0m\u001b[0m\n\u001b[1;32m      4\u001b[0m \u001b[0;34m\u001b[0m\u001b[0m\n\u001b[1;32m      5\u001b[0m \u001b[0mvalidation_inputs\u001b[0m \u001b[0;34m=\u001b[0m \u001b[0;34m[\u001b[0m\u001b[0mnp\u001b[0m\u001b[0;34m.\u001b[0m\u001b[0mreshape\u001b[0m\u001b[0;34m(\u001b[0m\u001b[0mx\u001b[0m\u001b[0;34m,\u001b[0m \u001b[0;34m(\u001b[0m\u001b[0;36m784\u001b[0m\u001b[0;34m,\u001b[0m \u001b[0;36m1\u001b[0m\u001b[0;34m)\u001b[0m\u001b[0;34m)\u001b[0m \u001b[0;32mfor\u001b[0m \u001b[0mx\u001b[0m \u001b[0;32min\u001b[0m \u001b[0mtr_d\u001b[0m\u001b[0;34m[\u001b[0m\u001b[0;36m6000\u001b[0m\u001b[0;34m:\u001b[0m\u001b[0;34m]\u001b[0m\u001b[0;34m]\u001b[0m\u001b[0;34m\u001b[0m\u001b[0;34m\u001b[0m\u001b[0m\n",
      "\u001b[0;31mNameError\u001b[0m: name 'tr_d' is not defined"
     ]
    }
   ],
   "source": [
    "# normalization & grouping\n",
    "training_inputs = [np.reshape(x, (784, 1)) for x in tr_d[:6000]]\n",
    "training_data = list(zip(training_inputs, fi1e.one_hot_vector(tr_l[:6000])))\n",
    "\n",
    "validation_inputs = [np.reshape(x, (784, 1)) for x in tr_d[6000:]]\n",
    "validation_data = list(zip(validation_inputs, tr_l[6000:]))\n",
    "\n",
    "test_data = list(zip(td_d))\n"
   ]
  },
  {
   "cell_type": "code",
   "execution_count": 24,
   "metadata": {},
   "outputs": [
    {
     "output_type": "stream",
     "name": "stdout",
     "text": [
      "2000\n"
     ]
    }
   ],
   "source": [
    "aa = []\n",
    "with open(f\"./data/test_img.txt\", 'r') as txtFile:\n",
    "    for f in txtFile:\n",
    "        f = f.replace('\\n', '').split(',')\n",
    "        x = [[float(_)] for _ in f]\n",
    "        aa.append(np.array(x))\n",
    "print(len(aa))"
   ]
  },
  {
   "cell_type": "code",
   "execution_count": 11,
   "metadata": {
    "tags": []
   },
   "outputs": [],
   "source": [
    "net2 = Network([784, 30, 10])"
   ]
  },
  {
   "cell_type": "code",
   "execution_count": 12,
   "metadata": {},
   "outputs": [
    {
     "output_type": "error",
     "ename": "NameError",
     "evalue": "name 'training_data2' is not defined",
     "traceback": [
      "\u001b[0;31m---------------------------------------------------------------------------\u001b[0m",
      "\u001b[0;31mNameError\u001b[0m                                 Traceback (most recent call last)",
      "\u001b[0;32m<ipython-input-12-f2d6e4959953>\u001b[0m in \u001b[0;36m<module>\u001b[0;34m\u001b[0m\n\u001b[0;32m----> 1\u001b[0;31m \u001b[0mnet2\u001b[0m\u001b[0;34m.\u001b[0m\u001b[0mSGD\u001b[0m\u001b[0;34m(\u001b[0m\u001b[0mtraining_data2\u001b[0m\u001b[0;34m,\u001b[0m \u001b[0;36m15\u001b[0m\u001b[0;34m,\u001b[0m \u001b[0;36m10\u001b[0m\u001b[0;34m,\u001b[0m \u001b[0;36m3\u001b[0m\u001b[0;34m,\u001b[0m \u001b[0mtest_data\u001b[0m\u001b[0;34m=\u001b[0m\u001b[0mvalidation_data2\u001b[0m\u001b[0;34m)\u001b[0m\u001b[0;34m\u001b[0m\u001b[0;34m\u001b[0m\u001b[0m\n\u001b[0m",
      "\u001b[0;31mNameError\u001b[0m: name 'training_data2' is not defined"
     ]
    }
   ],
   "source": [
    "net2.SGD(training_data2, 15, 10, 3, test_data=validation_data2)"
   ]
  },
  {
   "cell_type": "code",
   "execution_count": 11,
   "metadata": {
    "tags": []
   },
   "outputs": [
    {
     "output_type": "stream",
     "name": "stdout",
     "text": [
      "Epoch 0:bias 5394 / 6000 (89.9%)\n",
      "Epoch 0:validation 1751 / 2000 (87.55%)\n",
      "Epoch 1:bias 5494 / 6000 (91.56666666666666%)\n",
      "Epoch 1:validation 1829 / 2000 (91.45%)\n",
      "Epoch 2:bias 5611 / 6000 (93.51666666666667%)\n",
      "Epoch 2:validation 1854 / 2000 (92.7%)\n",
      "Epoch 3:bias 5626 / 6000 (93.76666666666667%)\n",
      "Epoch 3:validation 1853 / 2000 (92.65%)\n",
      "Epoch 4:bias 5688 / 6000 (94.8%)\n",
      "Epoch 4:validation 1871 / 2000 (93.55%)\n",
      "Epoch 5:bias 5733 / 6000 (95.55%)\n",
      "Epoch 5:validation 1907 / 2000 (95.35%)\n",
      "Epoch 6:bias 5688 / 6000 (94.8%)\n",
      "Epoch 6:validation 1878 / 2000 (93.89999999999999%)\n",
      "Epoch 7:bias 5744 / 6000 (95.73333333333333%)\n",
      "Epoch 7:validation 1909 / 2000 (95.45%)\n",
      "Epoch 8:bias 5748 / 6000 (95.8%)\n",
      "Epoch 8:validation 1893 / 2000 (94.65%)\n",
      "Epoch 9:bias 5787 / 6000 (96.45%)\n",
      "Epoch 9:validation 1911 / 2000 (95.55%)\n",
      "Epoch 10:bias 5616 / 6000 (93.60000000000001%)\n",
      "Epoch 10:validation 1850 / 2000 (92.5%)\n",
      "Epoch 11:bias 5777 / 6000 (96.28333333333333%)\n",
      "Epoch 11:validation 1900 / 2000 (95.0%)\n",
      "Epoch 12:bias 5731 / 6000 (95.51666666666667%)\n",
      "Epoch 12:validation 1884 / 2000 (94.19999999999999%)\n",
      "Epoch 13:bias 5763 / 6000 (96.05%)\n",
      "Epoch 13:validation 1886 / 2000 (94.3%)\n",
      "Epoch 14:bias 5730 / 6000 (95.5%)\n",
      "Epoch 14:validation 1882 / 2000 (94.1%)\n",
      "Final bias: 95.5%\n",
      "Final validation: 94.1%\n"
     ]
    }
   ],
   "source": [
    "nn_structure = [784, 128, 64, 3]\n",
    "net = Network(nn_structure)\n",
    "net.SGD(training_data, 15, 32, 1, test_data=validation_data)\n",
    "print(f'Final bias: {net.train_acc}%')\n",
    "print(f'Final validation: {net.test_acc}%')"
   ]
  },
  {
   "cell_type": "code",
   "execution_count": 79,
   "metadata": {},
   "outputs": [
    {
     "output_type": "stream",
     "name": "stdout",
     "text": [
      "###### Details ######\n1.Data Count\n -  Trainning data: 6000\n - Validation data: 2000\n\n2.Hidden layer\n -     Hidden Layer count: 2\n - Layer#1's Neuron count: 128\n - Layer#2's Neuron count: 64\n\n3.Final epoch: 8\n4.Final learning rate: 0.8337477621301497%\n5.Accuracy Rate\n -       Bias: 96.48333333333333%\n - Validation: 96.2%\n\n6.Error Rate\n -     Bias: 3.52%\n - Variance: 0.28%\n\n>> Process End-Up !\n"
     ]
    }
   ],
   "source": [
    "print(f'###### Details ######')\n",
    "print(f'1.Data Count')\n",
    "print(f' -  Trainning data: {len(training_data)}')\n",
    "print(f' - Validation data: {len(validation_data)}')\n",
    "#print(f' -    Predict data: {len(unknown_X)}')\n",
    "#print(f' -           Total: {len(train_X)+len(validation_X)+len(unknown_X)}')\n",
    "print(f'')\n",
    "print(f'2.Hidden layer')\n",
    "print(f' -     Hidden Layer count: {len(nn_structure)-2}')\n",
    "for cnt in range(1,len(nn_structure)-1):\n",
    "    print(f' - Layer#{cnt}\\'s Neuron count: {nn_structure[cnt]}')\n",
    "print(f'')\n",
    "print(f'3.Final epoch: {net.epoch}')\n",
    "print(f'4.Final learning rate: {net.eta}%')\n",
    "print(f'5.Accuracy Rate')\n",
    "print(f' -       Bias: {net.train_acc}%')\n",
    "print(f' - Validation: {net.test_acc}%')\n",
    "print(f'')\n",
    "print(f'6.Error Rate')\n",
    "print(f' -     Bias: {round(100-net.train_acc, 2)}%')\n",
    "print(f' - Variance: {round(-net.test_acc+net.train_acc, 2)}%')\n",
    "print(f'')\n",
    "print(f'>> Process End-Up !')"
   ]
  },
  {
   "cell_type": "code",
   "execution_count": 26,
   "metadata": {},
   "outputs": [
    {
     "output_type": "execute_result",
     "data": {
      "text/plain": [
       "5"
      ]
     },
     "metadata": {},
     "execution_count": 26
    }
   ],
   "source": [
    "def vvv():\n",
    "    return 10,5\n",
    "vvv()[1]"
   ]
  },
  {
   "cell_type": "code",
   "execution_count": null,
   "metadata": {},
   "outputs": [],
   "source": []
  }
 ]
}